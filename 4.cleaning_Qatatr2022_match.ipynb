{
 "cells": [
  {
   "cell_type": "code",
   "execution_count": 1,
   "id": "847202b0",
   "metadata": {},
   "outputs": [],
   "source": [
    "import pandas as pd"
   ]
  },
  {
   "cell_type": "code",
   "execution_count": 2,
   "id": "16291610",
   "metadata": {},
   "outputs": [],
   "source": [
    "match_coupdumonde = pd.read_csv('donnees/worldcup_match.csv')"
   ]
  },
  {
   "cell_type": "code",
   "execution_count": 3,
   "outputs": [],
   "source": [
    "match_coupdumonde.drop_duplicates(inplace=True)\n",
    "match_coupdumonde.sort_values('year', inplace=True)"
   ],
   "metadata": {
    "collapsed": false
   }
  },
  {
   "cell_type": "code",
   "execution_count": 4,
   "outputs": [],
   "source": [
    "# nettoyer les colonnes\n",
    "match_coupdumonde['score'] = match_coupdumonde['score'].str.replace('[^\\d–]', '', regex=True)\n",
    "match_coupdumonde['home'] = match_coupdumonde['home'].str.strip()\n",
    "match_coupdumonde['away'] = match_coupdumonde['away'].str.strip()\n",
    "\n",
    "# creation de deux nouveau colonnes et la supression de la colone score\n",
    "match_coupdumonde[['HomeGoals', 'AwayGoals']] = match_coupdumonde['score'].str.split('–', expand=True)\n",
    "match_coupdumonde.drop('score', axis=1, inplace=True)\n",
    "\n",
    "# renommer et changer les types du colonnes\n",
    "match_coupdumonde.rename(columns={'home': 'HomeTeam', 'away': 'AwayTeam',\n",
    "                                   'year':'Year'}, inplace=True)\n",
    "match_coupdumonde = match_coupdumonde.astype({'HomeGoals': int, 'AwayGoals':int, 'Year': int})\n",
    "\n",
    "# creation de le colonne \"totalgoals\"\n",
    "match_coupdumonde['TotalGoals'] = match_coupdumonde['HomeGoals'] + match_coupdumonde['AwayGoals']\n"
   ],
   "metadata": {
    "collapsed": false
   }
  },
  {
   "cell_type": "code",
   "execution_count": 10,
   "id": "12a3d8aa",
   "metadata": {},
   "outputs": [],
   "source": [
    "match_coupdumonde.to_csv('donnees/worldcup_match_Clean.csv',index=False)"
   ]
  },
  {
   "cell_type": "markdown",
   "source": [],
   "metadata": {
    "collapsed": false
   }
  },
  {
   "cell_type": "code",
   "execution_count": null,
   "outputs": [],
   "source": [],
   "metadata": {
    "collapsed": false
   }
  }
 ],
 "metadata": {
  "kernelspec": {
   "display_name": "Python 3 (ipykernel)",
   "language": "python",
   "name": "python3"
  },
  "language_info": {
   "codemirror_mode": {
    "name": "ipython",
    "version": 3
   },
   "file_extension": ".py",
   "mimetype": "text/x-python",
   "name": "python",
   "nbconvert_exporter": "python",
   "pygments_lexer": "ipython3",
   "version": "3.9.13"
  },
  "toc": {
   "base_numbering": 1,
   "nav_menu": {},
   "number_sections": true,
   "sideBar": true,
   "skip_h1_title": false,
   "title_cell": "Table of Contents",
   "title_sidebar": "Contents",
   "toc_cell": false,
   "toc_position": {},
   "toc_section_display": true,
   "toc_window_display": false
  }
 },
 "nbformat": 4,
 "nbformat_minor": 5
}
