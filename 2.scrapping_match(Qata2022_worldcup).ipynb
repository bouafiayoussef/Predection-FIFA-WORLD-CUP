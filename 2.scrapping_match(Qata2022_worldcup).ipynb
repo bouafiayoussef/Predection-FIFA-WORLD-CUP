{
 "cells": [
  {
   "cell_type": "code",
   "execution_count": 26,
   "id": "10bc0635",
   "metadata": {},
   "outputs": [],
   "source": [
    "import pandas as pd\n",
    "from bs4 import BeautifulSoup\n",
    "import requests"
   ]
  },
  {
   "cell_type": "code",
   "execution_count": 27,
   "outputs": [],
   "source": [
    "def get_matches(y):\n",
    "    site = f'https://en.wikipedia.org/wiki/{y}_FIFA_World_Cup'\n",
    "    req = requests.get(site)\n",
    "    content = req.text\n",
    "    soup = BeautifulSoup(content, 'lxml')\n",
    "    matches = soup.find_all('div', class_='footballbox')\n",
    "    home = []\n",
    "    score = []\n",
    "    away = []\n",
    "    for match in matches:\n",
    "        home.append(match.find('th', class_='fhome').get_text())\n",
    "        score.append(match.find('th', class_='fscore').get_text())\n",
    "        away.append(match.find('th', class_='faway').get_text())\n",
    "\n",
    "    dict_foot= {'home': home, 'score': score, 'away': away}\n",
    "    football = pd.DataFrame(dict_foot)\n",
    "    football['year'] = y\n",
    "    return football"
   ],
   "metadata": {
    "collapsed": false
   }
  },
  {
   "cell_type": "code",
   "execution_count": 28,
   "outputs": [],
   "source": [
    "years = [ 1930,1934,1950,1954,1958,1962,1966,1970,1974,1978,1982,1986,1990,1994,1998,2002,2006, 2010, 2014, 2018]"
   ],
   "metadata": {
    "collapsed": false
   }
  },
  {
   "cell_type": "code",
   "execution_count": 29,
   "outputs": [],
   "source": [
    "# les anciennes match"
   ],
   "metadata": {
    "collapsed": false
   }
  },
  {
   "cell_type": "code",
   "execution_count": 30,
   "outputs": [],
   "source": [
    "worldcup_match = [get_matches(year) for year in years]\n",
    "worldcup_match = pd.concat(worldcup_match, ignore_index=True)\n",
    "worldcup_match.to_csv(\"donnees/worldcup_match.csv\", index=False)"
   ],
   "metadata": {
    "collapsed": false
   }
  },
  {
   "cell_type": "code",
   "execution_count": 8,
   "id": "0c7376f0",
   "metadata": {},
   "outputs": [],
   "source": [
    "#les matches de coupe du monde 2022"
   ]
  },
  {
   "cell_type": "code",
   "execution_count": 31,
   "id": "66ec11dd",
   "metadata": {},
   "outputs": [],
   "source": [
    "Qatar2022 = get_matches(2022)\n",
    "Qatar2022.to_csv('donnees/Qatar2022_match.csv', index=False)"
   ]
  },
  {
   "cell_type": "code",
   "execution_count": null,
   "outputs": [],
   "source": [],
   "metadata": {
    "collapsed": false
   }
  }
 ],
 "metadata": {
  "kernelspec": {
   "display_name": "Python 3 (ipykernel)",
   "language": "python",
   "name": "python3"
  },
  "language_info": {
   "codemirror_mode": {
    "name": "ipython",
    "version": 3
   },
   "file_extension": ".py",
   "mimetype": "text/x-python",
   "name": "python",
   "nbconvert_exporter": "python",
   "pygments_lexer": "ipython3",
   "version": "3.9.13"
  },
  "toc": {
   "base_numbering": 1,
   "nav_menu": {},
   "number_sections": true,
   "sideBar": true,
   "skip_h1_title": false,
   "title_cell": "Table of Contents",
   "title_sidebar": "Contents",
   "toc_cell": false,
   "toc_position": {},
   "toc_section_display": true,
   "toc_window_display": false
  }
 },
 "nbformat": 4,
 "nbformat_minor": 5
}
