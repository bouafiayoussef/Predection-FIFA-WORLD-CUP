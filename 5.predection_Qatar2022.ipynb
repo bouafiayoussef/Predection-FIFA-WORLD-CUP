{
 "cells": [
  {
   "cell_type": "code",
   "execution_count": 125,
   "outputs": [],
   "source": [
    "import pandas as pd\n",
    "import pickle\n",
    "import numpy as np\n",
    "from sklearn.model_selection import train_test_split\n",
    "from sklearn.svm import SVC\n",
    "from sklearn.ensemble import RandomForestClassifier"
   ],
   "metadata": {
    "collapsed": false
   }
  },
  {
   "cell_type": "code",
   "execution_count": 126,
   "outputs": [],
   "source": [
    "match=pd.read_csv(\"data 2/Qatar2022_match_Clean.csv\")\n",
    "equipe = pd.read_csv(\"data 2/Qatar2022_paticipant_Clean.csv\", sep=\";\")\n",
    "classement = pd.read_csv(\"data 2/classement_fifa_2022_Clean.csv\")\n",
    "data_match = pd.read_csv(\"data 2/lesmatches_internationaux_Clean.csv\", sep=\";\")\n",
    "dict_table = pickle.load(open('data 2/dict_table','rb'))"
   ],
   "metadata": {
    "collapsed": false
   }
  },
  {
   "cell_type": "code",
   "execution_count": 127,
   "id": "64d1a59a",
   "metadata": {
    "execution": {
     "iopub.execute_input": "2022-11-29T14:37:21.640328Z",
     "iopub.status.busy": "2022-11-29T14:37:21.639930Z",
     "iopub.status.idle": "2022-11-29T14:37:21.654899Z",
     "shell.execute_reply": "2022-11-29T14:37:21.653835Z"
    },
    "papermill": {
     "duration": 0.028067,
     "end_time": "2022-11-29T14:37:21.657245",
     "exception": false,
     "start_time": "2022-11-29T14:37:21.629178",
     "status": "completed"
    },
    "tags": []
   },
   "outputs": [
    {
     "data": {
      "text/plain": "   rank  country_full country_abrv  total_points  previous_points  \\\n0     1       Germany          GER          57.0              0.0   \n1    96         Syria          SYR          11.0              0.0   \n2    97  Burkina Faso          BFA          11.0              0.0   \n3    99        Latvia          LVA          10.0              0.0   \n4   100       Burundi          BDI          10.0              0.0   \n\n   rank_change confederation   rank_date  \n0            0          UEFA  1992-12-31  \n1            0           AFC  1992-12-31  \n2            0           CAF  1992-12-31  \n3            0          UEFA  1992-12-31  \n4            0           CAF  1992-12-31  ",
      "text/html": "<div>\n<style scoped>\n    .dataframe tbody tr th:only-of-type {\n        vertical-align: middle;\n    }\n\n    .dataframe tbody tr th {\n        vertical-align: top;\n    }\n\n    .dataframe thead th {\n        text-align: right;\n    }\n</style>\n<table border=\"1\" class=\"dataframe\">\n  <thead>\n    <tr style=\"text-align: right;\">\n      <th></th>\n      <th>rank</th>\n      <th>country_full</th>\n      <th>country_abrv</th>\n      <th>total_points</th>\n      <th>previous_points</th>\n      <th>rank_change</th>\n      <th>confederation</th>\n      <th>rank_date</th>\n    </tr>\n  </thead>\n  <tbody>\n    <tr>\n      <th>0</th>\n      <td>1</td>\n      <td>Germany</td>\n      <td>GER</td>\n      <td>57.0</td>\n      <td>0.0</td>\n      <td>0</td>\n      <td>UEFA</td>\n      <td>1992-12-31</td>\n    </tr>\n    <tr>\n      <th>1</th>\n      <td>96</td>\n      <td>Syria</td>\n      <td>SYR</td>\n      <td>11.0</td>\n      <td>0.0</td>\n      <td>0</td>\n      <td>AFC</td>\n      <td>1992-12-31</td>\n    </tr>\n    <tr>\n      <th>2</th>\n      <td>97</td>\n      <td>Burkina Faso</td>\n      <td>BFA</td>\n      <td>11.0</td>\n      <td>0.0</td>\n      <td>0</td>\n      <td>CAF</td>\n      <td>1992-12-31</td>\n    </tr>\n    <tr>\n      <th>3</th>\n      <td>99</td>\n      <td>Latvia</td>\n      <td>LVA</td>\n      <td>10.0</td>\n      <td>0.0</td>\n      <td>0</td>\n      <td>UEFA</td>\n      <td>1992-12-31</td>\n    </tr>\n    <tr>\n      <th>4</th>\n      <td>100</td>\n      <td>Burundi</td>\n      <td>BDI</td>\n      <td>10.0</td>\n      <td>0.0</td>\n      <td>0</td>\n      <td>CAF</td>\n      <td>1992-12-31</td>\n    </tr>\n  </tbody>\n</table>\n</div>"
     },
     "execution_count": 127,
     "metadata": {},
     "output_type": "execute_result"
    }
   ],
   "source": [
    "classement.head()"
   ]
  },
  {
   "cell_type": "code",
   "execution_count": 128,
   "outputs": [
    {
     "data": {
      "text/plain": "         date home_team     away_team home_team_continent away_team_continent  \\\n0  08/08/1993   Bolivia       Uruguay       South America       South America   \n1  08/08/1993    Brazil        Mexico       South America       North America   \n2  08/08/1993   Ecuador     Venezuela       South America       South America   \n3  08/08/1993    Guinea  Sierra Leone              Africa              Africa   \n4  08/08/1993  Paraguay     Argentina       South America       South America   \n\n   home_team_fifa_rank  away_team_fifa_rank  home_team_total_fifa_points  \\\n0                   59                   22                            0   \n1                    8                   14                            0   \n2                   35                   94                            0   \n3                   65                   86                            0   \n4                   67                    5                            0   \n\n   away_team_total_fifa_points  home_team_score  ...  shoot_out  \\\n0                            0                3  ...         No   \n1                            0                1  ...         No   \n2                            0                5  ...         No   \n3                            0                1  ...         No   \n4                            0                1  ...         No   \n\n  home_team_result home_team_goalkeeper_score away_team_goalkeeper_score  \\\n0              Win                        NaN                        NaN   \n1             Draw                        NaN                        NaN   \n2              Win                        NaN                        NaN   \n3              Win                        NaN                        NaN   \n4             Lose                        NaN                        NaN   \n\n   home_team_mean_defense_score home_team_mean_offense_score  \\\n0                           NaN                          NaN   \n1                           NaN                          NaN   \n2                           NaN                          NaN   \n3                           NaN                          NaN   \n4                           NaN                          NaN   \n\n  home_team_mean_midfield_score  away_team_mean_defense_score  \\\n0                           NaN                           NaN   \n1                           NaN                           NaN   \n2                           NaN                           NaN   \n3                           NaN                           NaN   \n4                           NaN                           NaN   \n\n   away_team_mean_offense_score  away_team_mean_midfield_score  \n0                           NaN                            NaN  \n1                           NaN                            NaN  \n2                           NaN                            NaN  \n3                           NaN                            NaN  \n4                           NaN                            NaN  \n\n[5 rows x 25 columns]",
      "text/html": "<div>\n<style scoped>\n    .dataframe tbody tr th:only-of-type {\n        vertical-align: middle;\n    }\n\n    .dataframe tbody tr th {\n        vertical-align: top;\n    }\n\n    .dataframe thead th {\n        text-align: right;\n    }\n</style>\n<table border=\"1\" class=\"dataframe\">\n  <thead>\n    <tr style=\"text-align: right;\">\n      <th></th>\n      <th>date</th>\n      <th>home_team</th>\n      <th>away_team</th>\n      <th>home_team_continent</th>\n      <th>away_team_continent</th>\n      <th>home_team_fifa_rank</th>\n      <th>away_team_fifa_rank</th>\n      <th>home_team_total_fifa_points</th>\n      <th>away_team_total_fifa_points</th>\n      <th>home_team_score</th>\n      <th>...</th>\n      <th>shoot_out</th>\n      <th>home_team_result</th>\n      <th>home_team_goalkeeper_score</th>\n      <th>away_team_goalkeeper_score</th>\n      <th>home_team_mean_defense_score</th>\n      <th>home_team_mean_offense_score</th>\n      <th>home_team_mean_midfield_score</th>\n      <th>away_team_mean_defense_score</th>\n      <th>away_team_mean_offense_score</th>\n      <th>away_team_mean_midfield_score</th>\n    </tr>\n  </thead>\n  <tbody>\n    <tr>\n      <th>0</th>\n      <td>08/08/1993</td>\n      <td>Bolivia</td>\n      <td>Uruguay</td>\n      <td>South America</td>\n      <td>South America</td>\n      <td>59</td>\n      <td>22</td>\n      <td>0</td>\n      <td>0</td>\n      <td>3</td>\n      <td>...</td>\n      <td>No</td>\n      <td>Win</td>\n      <td>NaN</td>\n      <td>NaN</td>\n      <td>NaN</td>\n      <td>NaN</td>\n      <td>NaN</td>\n      <td>NaN</td>\n      <td>NaN</td>\n      <td>NaN</td>\n    </tr>\n    <tr>\n      <th>1</th>\n      <td>08/08/1993</td>\n      <td>Brazil</td>\n      <td>Mexico</td>\n      <td>South America</td>\n      <td>North America</td>\n      <td>8</td>\n      <td>14</td>\n      <td>0</td>\n      <td>0</td>\n      <td>1</td>\n      <td>...</td>\n      <td>No</td>\n      <td>Draw</td>\n      <td>NaN</td>\n      <td>NaN</td>\n      <td>NaN</td>\n      <td>NaN</td>\n      <td>NaN</td>\n      <td>NaN</td>\n      <td>NaN</td>\n      <td>NaN</td>\n    </tr>\n    <tr>\n      <th>2</th>\n      <td>08/08/1993</td>\n      <td>Ecuador</td>\n      <td>Venezuela</td>\n      <td>South America</td>\n      <td>South America</td>\n      <td>35</td>\n      <td>94</td>\n      <td>0</td>\n      <td>0</td>\n      <td>5</td>\n      <td>...</td>\n      <td>No</td>\n      <td>Win</td>\n      <td>NaN</td>\n      <td>NaN</td>\n      <td>NaN</td>\n      <td>NaN</td>\n      <td>NaN</td>\n      <td>NaN</td>\n      <td>NaN</td>\n      <td>NaN</td>\n    </tr>\n    <tr>\n      <th>3</th>\n      <td>08/08/1993</td>\n      <td>Guinea</td>\n      <td>Sierra Leone</td>\n      <td>Africa</td>\n      <td>Africa</td>\n      <td>65</td>\n      <td>86</td>\n      <td>0</td>\n      <td>0</td>\n      <td>1</td>\n      <td>...</td>\n      <td>No</td>\n      <td>Win</td>\n      <td>NaN</td>\n      <td>NaN</td>\n      <td>NaN</td>\n      <td>NaN</td>\n      <td>NaN</td>\n      <td>NaN</td>\n      <td>NaN</td>\n      <td>NaN</td>\n    </tr>\n    <tr>\n      <th>4</th>\n      <td>08/08/1993</td>\n      <td>Paraguay</td>\n      <td>Argentina</td>\n      <td>South America</td>\n      <td>South America</td>\n      <td>67</td>\n      <td>5</td>\n      <td>0</td>\n      <td>0</td>\n      <td>1</td>\n      <td>...</td>\n      <td>No</td>\n      <td>Lose</td>\n      <td>NaN</td>\n      <td>NaN</td>\n      <td>NaN</td>\n      <td>NaN</td>\n      <td>NaN</td>\n      <td>NaN</td>\n      <td>NaN</td>\n      <td>NaN</td>\n    </tr>\n  </tbody>\n</table>\n<p>5 rows × 25 columns</p>\n</div>"
     },
     "execution_count": 128,
     "metadata": {},
     "output_type": "execute_result"
    }
   ],
   "source": [
    "data_match.head()"
   ],
   "metadata": {
    "collapsed": false
   }
  },
  {
   "cell_type": "code",
   "execution_count": 129,
   "id": "7a6da3cb",
   "metadata": {
    "execution": {
     "iopub.execute_input": "2022-11-29T14:37:21.679327Z",
     "iopub.status.busy": "2022-11-29T14:37:21.678301Z",
     "iopub.status.idle": "2022-11-29T14:37:21.691114Z",
     "shell.execute_reply": "2022-11-29T14:37:21.690099Z"
    },
    "papermill": {
     "duration": 0.026144,
     "end_time": "2022-11-29T14:37:21.693348",
     "exception": false,
     "start_time": "2022-11-29T14:37:21.667204",
     "status": "completed"
    },
    "tags": []
   },
   "outputs": [
    {
     "data": {
      "text/plain": "          home     match         away\n0        Qatar   Match 1      Ecuador\n1      Senegal   Match 2  Netherlands\n2        Qatar  Match 18      Senegal\n3  Netherlands  Match 19      Ecuador\n4      Ecuador  Match 35      Senegal",
      "text/html": "<div>\n<style scoped>\n    .dataframe tbody tr th:only-of-type {\n        vertical-align: middle;\n    }\n\n    .dataframe tbody tr th {\n        vertical-align: top;\n    }\n\n    .dataframe thead th {\n        text-align: right;\n    }\n</style>\n<table border=\"1\" class=\"dataframe\">\n  <thead>\n    <tr style=\"text-align: right;\">\n      <th></th>\n      <th>home</th>\n      <th>match</th>\n      <th>away</th>\n    </tr>\n  </thead>\n  <tbody>\n    <tr>\n      <th>0</th>\n      <td>Qatar</td>\n      <td>Match 1</td>\n      <td>Ecuador</td>\n    </tr>\n    <tr>\n      <th>1</th>\n      <td>Senegal</td>\n      <td>Match 2</td>\n      <td>Netherlands</td>\n    </tr>\n    <tr>\n      <th>2</th>\n      <td>Qatar</td>\n      <td>Match 18</td>\n      <td>Senegal</td>\n    </tr>\n    <tr>\n      <th>3</th>\n      <td>Netherlands</td>\n      <td>Match 19</td>\n      <td>Ecuador</td>\n    </tr>\n    <tr>\n      <th>4</th>\n      <td>Ecuador</td>\n      <td>Match 35</td>\n      <td>Senegal</td>\n    </tr>\n  </tbody>\n</table>\n</div>"
     },
     "execution_count": 129,
     "metadata": {},
     "output_type": "execute_result"
    }
   ],
   "source": [
    "match.head()"
   ]
  },
  {
   "cell_type": "code",
   "execution_count": 130,
   "id": "befd1ee6",
   "metadata": {
    "execution": {
     "iopub.execute_input": "2022-11-29T14:37:21.715370Z",
     "iopub.status.busy": "2022-11-29T14:37:21.714973Z",
     "iopub.status.idle": "2022-11-29T14:37:21.725059Z",
     "shell.execute_reply": "2022-11-29T14:37:21.724055Z"
    },
    "papermill": {
     "duration": 0.02375,
     "end_time": "2022-11-29T14:37:21.727223",
     "exception": false,
     "start_time": "2022-11-29T14:37:21.703473",
     "status": "completed"
    },
    "tags": []
   },
   "outputs": [
    {
     "data": {
      "text/plain": "          Team Group\n0      Senegal     A\n1        Qatar     A\n2  Netherlands     A\n3      Ecuador     A\n4         Iran     B",
      "text/html": "<div>\n<style scoped>\n    .dataframe tbody tr th:only-of-type {\n        vertical-align: middle;\n    }\n\n    .dataframe tbody tr th {\n        vertical-align: top;\n    }\n\n    .dataframe thead th {\n        text-align: right;\n    }\n</style>\n<table border=\"1\" class=\"dataframe\">\n  <thead>\n    <tr style=\"text-align: right;\">\n      <th></th>\n      <th>Team</th>\n      <th>Group</th>\n    </tr>\n  </thead>\n  <tbody>\n    <tr>\n      <th>0</th>\n      <td>Senegal</td>\n      <td>A</td>\n    </tr>\n    <tr>\n      <th>1</th>\n      <td>Qatar</td>\n      <td>A</td>\n    </tr>\n    <tr>\n      <th>2</th>\n      <td>Netherlands</td>\n      <td>A</td>\n    </tr>\n    <tr>\n      <th>3</th>\n      <td>Ecuador</td>\n      <td>A</td>\n    </tr>\n    <tr>\n      <th>4</th>\n      <td>Iran</td>\n      <td>B</td>\n    </tr>\n  </tbody>\n</table>\n</div>"
     },
     "execution_count": 130,
     "metadata": {},
     "output_type": "execute_result"
    }
   ],
   "source": [
    "equipe.head()"
   ]
  },
  {
   "cell_type": "code",
   "execution_count": 133,
   "outputs": [],
   "source": [
    "data_match_df = data_match.replace({\"IR Iran\": \"Iran\", \"Korea Republic\" : \"South Korea\"})\n",
    "classement_df = classement.replace({\"IR Iran\": \"Iran\", \"Korea Republic\" : \"South Korea\"})"
   ],
   "metadata": {
    "collapsed": false
   }
  },
  {
   "cell_type": "code",
   "execution_count": 134,
   "id": "3a015567",
   "metadata": {
    "execution": {
     "iopub.execute_input": "2022-11-29T14:37:21.892038Z",
     "iopub.status.busy": "2022-11-29T14:37:21.891630Z",
     "iopub.status.idle": "2022-11-29T14:37:21.909170Z",
     "shell.execute_reply": "2022-11-29T14:37:21.908392Z"
    },
    "papermill": {
     "duration": 0.031215,
     "end_time": "2022-11-29T14:37:21.911527",
     "exception": false,
     "start_time": "2022-11-29T14:37:21.880312",
     "status": "completed"
    },
    "tags": []
   },
   "outputs": [],
   "source": [
    "data_match_df['rank_difference'] = data_match_df['home_team_fifa_rank'] - data_match_df['away_team_fifa_rank']\n",
    "data_match_df['average_rank'] = (data_match_df['home_team_fifa_rank'] + data_match_df['away_team_fifa_rank'])/2\n",
    "data_match_df['point_difference'] = data_match_df['home_team_total_fifa_points'] - data_match_df['away_team_total_fifa_points']\n",
    "data_match_df['is_stake'] = data_match_df['tournament'] != 'Friendly'\n",
    "data_match_df['is_worldcup'] = 'FIFA World Cup' in data_match_df['tournament']\n",
    "data_match_df['score_difference'] = data_match_df['home_team_score'] - data_match_df['away_team_score']\n",
    "data_match_df['is_won'] = data_match_df['score_difference'] > 0 # Take draw as lost\n"
   ]
  },
  {
   "cell_type": "code",
   "execution_count": 135,
   "outputs": [],
   "source": [
    "A= data_match_df.loc[:,['average_rank', 'rank_difference', 'point_difference', 'is_stake', 'is_worldcup']]\n",
    "B=data_match_df['is_won']\n",
    "A_train, A_test, B_train, B_test = train_test_split(A, B, test_size=0.2, random_state=42)"
   ],
   "metadata": {
    "collapsed": false
   }
  },
  {
   "cell_type": "code",
   "execution_count": 136,
   "outputs": [
    {
     "data": {
      "text/plain": "       average_rank  rank_difference  point_difference  is_stake  is_worldcup\n0              40.5               37                 0      True        False\n1              11.0               -6                 0     False        False\n2              64.5              -59                 0      True        False\n3              75.5              -21                 0     False        False\n4              36.0               62                 0      True        False\n...             ...              ...               ...       ...          ...\n23916         166.5               27              -108      True        False\n23917         163.5               57              -210      True        False\n23918          44.0              -32               139      True        False\n23919          29.0              -12                54      True        False\n23920          30.5               -3                19     False        False\n\n[23921 rows x 5 columns]",
      "text/html": "<div>\n<style scoped>\n    .dataframe tbody tr th:only-of-type {\n        vertical-align: middle;\n    }\n\n    .dataframe tbody tr th {\n        vertical-align: top;\n    }\n\n    .dataframe thead th {\n        text-align: right;\n    }\n</style>\n<table border=\"1\" class=\"dataframe\">\n  <thead>\n    <tr style=\"text-align: right;\">\n      <th></th>\n      <th>average_rank</th>\n      <th>rank_difference</th>\n      <th>point_difference</th>\n      <th>is_stake</th>\n      <th>is_worldcup</th>\n    </tr>\n  </thead>\n  <tbody>\n    <tr>\n      <th>0</th>\n      <td>40.5</td>\n      <td>37</td>\n      <td>0</td>\n      <td>True</td>\n      <td>False</td>\n    </tr>\n    <tr>\n      <th>1</th>\n      <td>11.0</td>\n      <td>-6</td>\n      <td>0</td>\n      <td>False</td>\n      <td>False</td>\n    </tr>\n    <tr>\n      <th>2</th>\n      <td>64.5</td>\n      <td>-59</td>\n      <td>0</td>\n      <td>True</td>\n      <td>False</td>\n    </tr>\n    <tr>\n      <th>3</th>\n      <td>75.5</td>\n      <td>-21</td>\n      <td>0</td>\n      <td>False</td>\n      <td>False</td>\n    </tr>\n    <tr>\n      <th>4</th>\n      <td>36.0</td>\n      <td>62</td>\n      <td>0</td>\n      <td>True</td>\n      <td>False</td>\n    </tr>\n    <tr>\n      <th>...</th>\n      <td>...</td>\n      <td>...</td>\n      <td>...</td>\n      <td>...</td>\n      <td>...</td>\n    </tr>\n    <tr>\n      <th>23916</th>\n      <td>166.5</td>\n      <td>27</td>\n      <td>-108</td>\n      <td>True</td>\n      <td>False</td>\n    </tr>\n    <tr>\n      <th>23917</th>\n      <td>163.5</td>\n      <td>57</td>\n      <td>-210</td>\n      <td>True</td>\n      <td>False</td>\n    </tr>\n    <tr>\n      <th>23918</th>\n      <td>44.0</td>\n      <td>-32</td>\n      <td>139</td>\n      <td>True</td>\n      <td>False</td>\n    </tr>\n    <tr>\n      <th>23919</th>\n      <td>29.0</td>\n      <td>-12</td>\n      <td>54</td>\n      <td>True</td>\n      <td>False</td>\n    </tr>\n    <tr>\n      <th>23920</th>\n      <td>30.5</td>\n      <td>-3</td>\n      <td>19</td>\n      <td>False</td>\n      <td>False</td>\n    </tr>\n  </tbody>\n</table>\n<p>23921 rows × 5 columns</p>\n</div>"
     },
     "execution_count": 136,
     "metadata": {},
     "output_type": "execute_result"
    }
   ],
   "source": [
    "A"
   ],
   "metadata": {
    "collapsed": false
   }
  },
  {
   "cell_type": "code",
   "execution_count": 137,
   "outputs": [
    {
     "data": {
      "text/plain": "0         True\n1        False\n2         True\n3         True\n4        False\n         ...  \n23916     True\n23917    False\n23918    False\n23919    False\n23920     True\nName: is_won, Length: 23921, dtype: bool"
     },
     "execution_count": 137,
     "metadata": {},
     "output_type": "execute_result"
    }
   ],
   "source": [
    "B"
   ],
   "metadata": {
    "collapsed": false
   }
  },
  {
   "cell_type": "markdown",
   "source": [
    "Support Vector Machines\n",
    "Random Forest"
   ],
   "metadata": {
    "collapsed": false
   }
  },
  {
   "cell_type": "code",
   "execution_count": 138,
   "outputs": [
    {
     "data": {
      "text/plain": "       average_rank  rank_difference  point_difference  is_stake  is_worldcup\n10294          24.0               14                 0     False        False\n273            40.0              -36                 0      True        False\n22264          37.5              -35               148      True        False\n6916           64.5               43                 0      True        False\n7107           49.5              -69                 0      True        False\n...             ...              ...               ...       ...          ...\n21575         162.5              -59               184      True        False\n5390          110.5              -19                 0     False        False\n860           143.5                1                 0      True        False\n15795         164.5              -11                42     False        False\n23654          33.0               12               -63      True        False\n\n[19136 rows x 5 columns]",
      "text/html": "<div>\n<style scoped>\n    .dataframe tbody tr th:only-of-type {\n        vertical-align: middle;\n    }\n\n    .dataframe tbody tr th {\n        vertical-align: top;\n    }\n\n    .dataframe thead th {\n        text-align: right;\n    }\n</style>\n<table border=\"1\" class=\"dataframe\">\n  <thead>\n    <tr style=\"text-align: right;\">\n      <th></th>\n      <th>average_rank</th>\n      <th>rank_difference</th>\n      <th>point_difference</th>\n      <th>is_stake</th>\n      <th>is_worldcup</th>\n    </tr>\n  </thead>\n  <tbody>\n    <tr>\n      <th>10294</th>\n      <td>24.0</td>\n      <td>14</td>\n      <td>0</td>\n      <td>False</td>\n      <td>False</td>\n    </tr>\n    <tr>\n      <th>273</th>\n      <td>40.0</td>\n      <td>-36</td>\n      <td>0</td>\n      <td>True</td>\n      <td>False</td>\n    </tr>\n    <tr>\n      <th>22264</th>\n      <td>37.5</td>\n      <td>-35</td>\n      <td>148</td>\n      <td>True</td>\n      <td>False</td>\n    </tr>\n    <tr>\n      <th>6916</th>\n      <td>64.5</td>\n      <td>43</td>\n      <td>0</td>\n      <td>True</td>\n      <td>False</td>\n    </tr>\n    <tr>\n      <th>7107</th>\n      <td>49.5</td>\n      <td>-69</td>\n      <td>0</td>\n      <td>True</td>\n      <td>False</td>\n    </tr>\n    <tr>\n      <th>...</th>\n      <td>...</td>\n      <td>...</td>\n      <td>...</td>\n      <td>...</td>\n      <td>...</td>\n    </tr>\n    <tr>\n      <th>21575</th>\n      <td>162.5</td>\n      <td>-59</td>\n      <td>184</td>\n      <td>True</td>\n      <td>False</td>\n    </tr>\n    <tr>\n      <th>5390</th>\n      <td>110.5</td>\n      <td>-19</td>\n      <td>0</td>\n      <td>False</td>\n      <td>False</td>\n    </tr>\n    <tr>\n      <th>860</th>\n      <td>143.5</td>\n      <td>1</td>\n      <td>0</td>\n      <td>True</td>\n      <td>False</td>\n    </tr>\n    <tr>\n      <th>15795</th>\n      <td>164.5</td>\n      <td>-11</td>\n      <td>42</td>\n      <td>False</td>\n      <td>False</td>\n    </tr>\n    <tr>\n      <th>23654</th>\n      <td>33.0</td>\n      <td>12</td>\n      <td>-63</td>\n      <td>True</td>\n      <td>False</td>\n    </tr>\n  </tbody>\n</table>\n<p>19136 rows × 5 columns</p>\n</div>"
     },
     "execution_count": 138,
     "metadata": {},
     "output_type": "execute_result"
    }
   ],
   "source": [
    "A_train"
   ],
   "metadata": {
    "collapsed": false
   }
  },
  {
   "cell_type": "code",
   "execution_count": 139,
   "outputs": [
    {
     "data": {
      "text/plain": "       average_rank  rank_difference  point_difference  is_stake  is_worldcup\n2476           17.5               33                 0      True        False\n8225           48.0               94                 0     False        False\n20053          87.0              -54               278      True        False\n21512         147.0               -6                23      True        False\n4104          147.5               -1                 0     False        False\n...             ...              ...               ...       ...          ...\n1258           53.0              -10                 0      True        False\n20856          65.5                9               -36     False        False\n23818         139.5               59              -198      True        False\n12586          43.0              -68                 0      True        False\n19700          78.5               53              -335      True        False\n\n[4785 rows x 5 columns]",
      "text/html": "<div>\n<style scoped>\n    .dataframe tbody tr th:only-of-type {\n        vertical-align: middle;\n    }\n\n    .dataframe tbody tr th {\n        vertical-align: top;\n    }\n\n    .dataframe thead th {\n        text-align: right;\n    }\n</style>\n<table border=\"1\" class=\"dataframe\">\n  <thead>\n    <tr style=\"text-align: right;\">\n      <th></th>\n      <th>average_rank</th>\n      <th>rank_difference</th>\n      <th>point_difference</th>\n      <th>is_stake</th>\n      <th>is_worldcup</th>\n    </tr>\n  </thead>\n  <tbody>\n    <tr>\n      <th>2476</th>\n      <td>17.5</td>\n      <td>33</td>\n      <td>0</td>\n      <td>True</td>\n      <td>False</td>\n    </tr>\n    <tr>\n      <th>8225</th>\n      <td>48.0</td>\n      <td>94</td>\n      <td>0</td>\n      <td>False</td>\n      <td>False</td>\n    </tr>\n    <tr>\n      <th>20053</th>\n      <td>87.0</td>\n      <td>-54</td>\n      <td>278</td>\n      <td>True</td>\n      <td>False</td>\n    </tr>\n    <tr>\n      <th>21512</th>\n      <td>147.0</td>\n      <td>-6</td>\n      <td>23</td>\n      <td>True</td>\n      <td>False</td>\n    </tr>\n    <tr>\n      <th>4104</th>\n      <td>147.5</td>\n      <td>-1</td>\n      <td>0</td>\n      <td>False</td>\n      <td>False</td>\n    </tr>\n    <tr>\n      <th>...</th>\n      <td>...</td>\n      <td>...</td>\n      <td>...</td>\n      <td>...</td>\n      <td>...</td>\n    </tr>\n    <tr>\n      <th>1258</th>\n      <td>53.0</td>\n      <td>-10</td>\n      <td>0</td>\n      <td>True</td>\n      <td>False</td>\n    </tr>\n    <tr>\n      <th>20856</th>\n      <td>65.5</td>\n      <td>9</td>\n      <td>-36</td>\n      <td>False</td>\n      <td>False</td>\n    </tr>\n    <tr>\n      <th>23818</th>\n      <td>139.5</td>\n      <td>59</td>\n      <td>-198</td>\n      <td>True</td>\n      <td>False</td>\n    </tr>\n    <tr>\n      <th>12586</th>\n      <td>43.0</td>\n      <td>-68</td>\n      <td>0</td>\n      <td>True</td>\n      <td>False</td>\n    </tr>\n    <tr>\n      <th>19700</th>\n      <td>78.5</td>\n      <td>53</td>\n      <td>-335</td>\n      <td>True</td>\n      <td>False</td>\n    </tr>\n  </tbody>\n</table>\n<p>4785 rows × 5 columns</p>\n</div>"
     },
     "execution_count": 139,
     "metadata": {},
     "output_type": "execute_result"
    }
   ],
   "source": [
    "A_test"
   ],
   "metadata": {
    "collapsed": false
   }
  },
  {
   "cell_type": "code",
   "execution_count": 140,
   "outputs": [
    {
     "data": {
      "text/plain": "10294     True\n273       True\n22264     True\n6916     False\n7107      True\n         ...  \n21575     True\n5390     False\n860      False\n15795     True\n23654    False\nName: is_won, Length: 19136, dtype: bool"
     },
     "execution_count": 140,
     "metadata": {},
     "output_type": "execute_result"
    }
   ],
   "source": [
    "B_train"
   ],
   "metadata": {
    "collapsed": false
   }
  },
  {
   "cell_type": "code",
   "execution_count": 141,
   "outputs": [
    {
     "data": {
      "text/plain": "2476     False\n8225     False\n20053    False\n21512    False\n4104      True\n         ...  \n1258      True\n20856    False\n23818    False\n12586     True\n19700    False\nName: is_won, Length: 4785, dtype: bool"
     },
     "execution_count": 141,
     "metadata": {},
     "output_type": "execute_result"
    }
   ],
   "source": [
    "B_test"
   ],
   "metadata": {
    "collapsed": false
   }
  },
  {
   "cell_type": "code",
   "execution_count": 142,
   "id": "d5e8b6b2",
   "metadata": {
    "execution": {
     "iopub.execute_input": "2022-11-29T14:37:23.313121Z",
     "iopub.status.busy": "2022-11-29T14:37:23.312593Z",
     "iopub.status.idle": "2022-11-29T14:37:46.496100Z",
     "shell.execute_reply": "2022-11-29T14:37:46.494809Z"
    },
    "papermill": {
     "duration": 23.205967,
     "end_time": "2022-11-29T14:37:46.498694",
     "exception": false,
     "start_time": "2022-11-29T14:37:23.292727",
     "status": "completed"
    },
    "tags": []
   },
   "outputs": [
    {
     "data": {
      "text/plain": "0.68"
     },
     "execution_count": 142,
     "metadata": {},
     "output_type": "execute_result"
    }
   ],
   "source": [
    "# Support Vector Machines\n",
    "\n",
    "svc = SVC()\n",
    "svc.fit(A_train, B_train) #pour les variables d'entrainemenet\n",
    "svm_pred = svc.predict(A_test)\n",
    "accurrancy= round(svc.score(A_test, B_test) , 2)\n",
    "accurrancy"
   ]
  },
  {
   "cell_type": "code",
   "execution_count": 143,
   "id": "e34ba441",
   "metadata": {
    "execution": {
     "iopub.execute_input": "2022-11-29T14:37:47.049091Z",
     "iopub.status.busy": "2022-11-29T14:37:47.048417Z",
     "iopub.status.idle": "2022-11-29T14:37:50.417308Z",
     "shell.execute_reply": "2022-11-29T14:37:50.416276Z"
    },
    "papermill": {
     "duration": 3.383588,
     "end_time": "2022-11-29T14:37:50.419727",
     "exception": false,
     "start_time": "2022-11-29T14:37:47.036139",
     "status": "completed"
    },
    "tags": []
   },
   "outputs": [
    {
     "data": {
      "text/plain": "0.64"
     },
     "execution_count": 143,
     "metadata": {},
     "output_type": "execute_result"
    }
   ],
   "source": [
    "# Random Forest\n",
    "\n",
    "random_forest = RandomForestClassifier(n_estimators=50)\n",
    "random_forest.fit(A_train, B_train)  #pour les variables d'entrainemenet\n",
    "Y_pred = random_forest.predict(A_test)\n",
    "random_forest.score(A_train, B_train)\n",
    "accurrancy = round(random_forest.score(A_test, B_test), 2)\n",
    "accurrancy"
   ]
  },
  {
   "cell_type": "markdown",
   "id": "52b69a12",
   "metadata": {
    "papermill": {
     "duration": 0.010602,
     "end_time": "2022-11-29T14:37:50.478798",
     "exception": false,
     "start_time": "2022-11-29T14:37:50.468196",
     "status": "completed"
    },
    "tags": []
   },
   "source": []
  },
  {
   "cell_type": "code",
   "execution_count": 144,
   "id": "b547977b",
   "metadata": {
    "execution": {
     "iopub.execute_input": "2022-11-29T14:37:50.552716Z",
     "iopub.status.busy": "2022-11-29T14:37:50.552279Z",
     "iopub.status.idle": "2022-11-29T14:37:50.574801Z",
     "shell.execute_reply": "2022-11-29T14:37:50.573742Z"
    },
    "papermill": {
     "duration": 0.036535,
     "end_time": "2022-11-29T14:37:50.577159",
     "exception": false,
     "start_time": "2022-11-29T14:37:50.540624",
     "status": "completed"
    },
    "tags": []
   },
   "outputs": [],
   "source": [
    "\n",
    "classement_df = classement_df.loc[(classement_df['rank_date'] == classement_df['rank_date'].max()) & (classement_df['country_full'].isin(equipe['Team'].unique()))]\n",
    "\n",
    "classement_coup_du_monde = classement_df.set_index(['country_full'])"
   ]
  },
  {
   "cell_type": "code",
   "execution_count": 147,
   "id": "1e15454c",
   "metadata": {
    "execution": {
     "iopub.execute_input": "2022-11-29T14:37:50.695091Z",
     "iopub.status.busy": "2022-11-29T14:37:50.694328Z",
     "iopub.status.idle": "2022-11-29T14:37:50.703396Z",
     "shell.execute_reply": "2022-11-29T14:37:50.702610Z"
    },
    "papermill": {
     "duration": 0.023631,
     "end_time": "2022-11-29T14:37:50.705284",
     "exception": false,
     "start_time": "2022-11-29T14:37:50.681653",
     "status": "completed"
    },
    "tags": []
   },
   "outputs": [
    {
     "data": {
      "text/plain": "{'Senegal': [],\n 'Qatar': [],\n 'Netherlands': [],\n 'Ecuador': [],\n 'Iran': [],\n 'England': [],\n 'USA': [],\n 'Wales': [],\n 'Argentina': [],\n 'Saudi Arabia': [],\n 'Mexico': [],\n 'Poland': [],\n 'Denmark': [],\n 'Tunisia': [],\n 'France': [],\n 'Australia': [],\n 'Germany': [],\n 'Japan': [],\n 'Spain': [],\n 'Costa Rica': [],\n 'Morocco': [],\n 'Croatia': [],\n 'Belgium': [],\n 'Canada': [],\n 'Switzerland': [],\n 'Cameroon': [],\n 'Brazil': [],\n 'Serbia': [],\n 'Uruguay': [],\n 'South Korea': [],\n 'Portugal': [],\n 'Ghana': []}"
     },
     "execution_count": 147,
     "metadata": {},
     "output_type": "execute_result"
    }
   ],
   "source": [
    "country_win_prob = {}\n",
    "for country in equipe['Team'].unique():\n",
    "    country_win_prob[country] = list()\n",
    "\n",
    "country_win_prob"
   ]
  },
  {
   "cell_type": "markdown",
   "id": "751c02b0",
   "metadata": {
    "papermill": {
     "duration": 0.010669,
     "end_time": "2022-11-29T14:37:50.727439",
     "exception": false,
     "start_time": "2022-11-29T14:37:50.716770",
     "status": "completed"
    },
    "tags": []
   },
   "source": [
    "# Group Stage Match Prediction"
   ]
  },
  {
   "cell_type": "code",
   "execution_count": 148,
   "id": "01e375fc",
   "metadata": {
    "execution": {
     "iopub.execute_input": "2022-11-29T14:37:50.751288Z",
     "iopub.status.busy": "2022-11-29T14:37:50.750544Z",
     "iopub.status.idle": "2022-11-29T14:37:50.957239Z",
     "shell.execute_reply": "2022-11-29T14:37:50.956094Z"
    },
    "papermill": {
     "duration": 0.221491,
     "end_time": "2022-11-29T14:37:50.959816",
     "exception": false,
     "start_time": "2022-11-29T14:37:50.738325",
     "status": "completed"
    },
    "tags": []
   },
   "outputs": [],
   "source": [
    "def predict_points(home, away):\n",
    "\n",
    "    # creer et initailiser les lignes et les column porte `average_rank', 'rank_difference', 'point_difference', 'is_stake', 'is_worldcup\n",
    "        ligne = pd.DataFrame(np.array([[np.nan, np.nan, np.nan, True, True]]), columns=A_train.columns)\n",
    "\n",
    "        home_rank = classement_coup_du_monde.loc[home, 'rank']\n",
    "        home_points = classement_coup_du_monde.loc[home, 'total_points']\n",
    "        away_rank = classement_coup_du_monde.loc[away, 'rank']\n",
    "        away_points = classement_coup_du_monde.loc[away, 'total_points']\n",
    "\n",
    "        ligne['average_rank'] = (home_rank + away_rank) / 2\n",
    "        ligne['rank_difference'] = home_rank - away_rank\n",
    "        ligne['point_difference'] = home_points - away_points\n",
    "\n",
    "        modele = svc.predict(ligne)\n",
    "\n",
    "        awaypoints=0\n",
    "        homepoints=0\n",
    "\n",
    "        if modele == False:\n",
    "            awaypoints = 3\n",
    "\n",
    "        elif modele== True:\n",
    "            homepoints= 3\n",
    "\n",
    "        return homepoints,awaypoints"
   ]
  },
  {
   "cell_type": "markdown",
   "id": "0deba096",
   "metadata": {
    "papermill": {
     "duration": 0.012079,
     "end_time": "2022-11-29T14:37:51.704509",
     "exception": false,
     "start_time": "2022-11-29T14:37:51.692430",
     "status": "completed"
    },
    "tags": []
   },
   "source": [
    "diviser les phases de la competition"
   ]
  },
  {
   "cell_type": "code",
   "execution_count": 149,
   "id": "30cf015a",
   "metadata": {},
   "outputs": [],
   "source": [
    "phase_de_groupes = match[:48].copy()\n",
    "huitième_de_finale = match[48:56].copy()\n",
    "quarts_de_finale = match[56:60].copy()\n",
    "demi_finale= match[60:62].copy()\n",
    "final = match[62:].copy()"
   ]
  },
  {
   "cell_type": "code",
   "execution_count": null,
   "outputs": [],
   "source": [],
   "metadata": {
    "collapsed": false
   }
  },
  {
   "cell_type": "code",
   "execution_count": 150,
   "outputs": [],
   "source": [
    "for group in dict_table:\n",
    "    teams_in_group = dict_table[group]['Team'].values\n",
    "    match_group = phase_de_groupes[phase_de_groupes['home'].isin(teams_in_group)]\n",
    "    for index, row in match_group.iterrows():\n",
    "        home, away = row['home'], row['away']\n",
    "        if home=='United States'or away=='United States':\n",
    "            points_home=0\n",
    "            points_away=0\n",
    "        else:\n",
    "            points_home, points_away = predict_points(home, away)\n",
    "        dict_table[group].loc[dict_table[group]['Team'] == home, 'Pts'] += points_home\n",
    "        dict_table[group].loc[dict_table[group]['Team'] == away, 'Pts'] += points_away\n",
    "\n",
    "    dict_table[group] = dict_table[group].sort_values('Pts', ascending=False).reset_index()\n",
    "    dict_table[group] = dict_table[group][['Team', 'Pts']]\n",
    "\n"
   ],
   "metadata": {
    "collapsed": false
   }
  },
  {
   "cell_type": "code",
   "execution_count": 153,
   "outputs": [
    {
     "data": {
      "text/plain": "{'Group A':           Team  Pts\n 0  Netherlands    9\n 1      Senegal    3\n 2    Qatar (H)    0\n 3      Ecuador    0,\n 'Group B':             Team  Pts\n 0        England    6\n 1           Iran    3\n 2  United States    0\n 3          Wales    0,\n 'Group C':            Team  Pts\n 0     Argentina    9\n 1        Mexico    6\n 2        Poland    3\n 3  Saudi Arabia    0,\n 'Group D':         Team  Pts\n 0     France    9\n 1    Denmark    6\n 2  Australia    3\n 3    Tunisia    0,\n 'Group E':          Team  Pts\n 0       Spain    9\n 1     Germany    6\n 2       Japan    3\n 3  Costa Rica    0,\n 'Group F':       Team  Pts\n 0  Belgium    9\n 1  Croatia    6\n 2  Morocco    3\n 3   Canada    0,\n 'Group G':           Team  Pts\n 0       Brazil    9\n 1  Switzerland    6\n 2       Serbia    3\n 3     Cameroon    0,\n 'Group H':           Team  Pts\n 0      Uruguay    9\n 1     Portugal    6\n 2  South Korea    3\n 3        Ghana    0}"
     },
     "execution_count": 153,
     "metadata": {},
     "output_type": "execute_result"
    }
   ],
   "source": [
    "dict_table\n"
   ],
   "metadata": {
    "collapsed": false
   }
  },
  {
   "cell_type": "code",
   "execution_count": 154,
   "outputs": [
    {
     "data": {
      "text/plain": "{'Group A': ('Netherlands', 'Senegal'),\n 'Group B': ('England', 'Iran'),\n 'Group C': ('Argentina', 'Mexico'),\n 'Group D': ('France', 'Denmark'),\n 'Group E': ('Spain', 'Germany'),\n 'Group F': ('Belgium', 'Croatia'),\n 'Group G': ('Brazil', 'Switzerland'),\n 'Group H': ('Uruguay', 'Portugal')}"
     },
     "execution_count": 154,
     "metadata": {},
     "output_type": "execute_result"
    }
   ],
   "source": [
    "group_winner={}\n",
    "for group in dict_table:\n",
    "    group_winner[group] = dict_table[group].loc[0, 'Team'],dict_table[group].loc[1, 'Team']\n",
    "\n",
    "group_winner"
   ],
   "metadata": {
    "collapsed": false
   }
  },
  {
   "cell_type": "code",
   "execution_count": 155,
   "id": "871e8339",
   "metadata": {},
   "outputs": [
    {
     "data": {
      "text/plain": "           home     match         away winner\n48  Netherlands  Match 49         Iran      ?\n49    Argentina  Match 50      Denmark      ?\n50       France  Match 52       Mexico      ?\n51      England  Match 51      Senegal      ?\n52        Spain  Match 53      Croatia      ?\n53       Brazil  Match 54     Portugal      ?\n54      Belgium  Match 55      Germany      ?\n55      Uruguay  Match 56  Switzerland      ?",
      "text/html": "<div>\n<style scoped>\n    .dataframe tbody tr th:only-of-type {\n        vertical-align: middle;\n    }\n\n    .dataframe tbody tr th {\n        vertical-align: top;\n    }\n\n    .dataframe thead th {\n        text-align: right;\n    }\n</style>\n<table border=\"1\" class=\"dataframe\">\n  <thead>\n    <tr style=\"text-align: right;\">\n      <th></th>\n      <th>home</th>\n      <th>match</th>\n      <th>away</th>\n      <th>winner</th>\n    </tr>\n  </thead>\n  <tbody>\n    <tr>\n      <th>48</th>\n      <td>Netherlands</td>\n      <td>Match 49</td>\n      <td>Iran</td>\n      <td>?</td>\n    </tr>\n    <tr>\n      <th>49</th>\n      <td>Argentina</td>\n      <td>Match 50</td>\n      <td>Denmark</td>\n      <td>?</td>\n    </tr>\n    <tr>\n      <th>50</th>\n      <td>France</td>\n      <td>Match 52</td>\n      <td>Mexico</td>\n      <td>?</td>\n    </tr>\n    <tr>\n      <th>51</th>\n      <td>England</td>\n      <td>Match 51</td>\n      <td>Senegal</td>\n      <td>?</td>\n    </tr>\n    <tr>\n      <th>52</th>\n      <td>Spain</td>\n      <td>Match 53</td>\n      <td>Croatia</td>\n      <td>?</td>\n    </tr>\n    <tr>\n      <th>53</th>\n      <td>Brazil</td>\n      <td>Match 54</td>\n      <td>Portugal</td>\n      <td>?</td>\n    </tr>\n    <tr>\n      <th>54</th>\n      <td>Belgium</td>\n      <td>Match 55</td>\n      <td>Germany</td>\n      <td>?</td>\n    </tr>\n    <tr>\n      <th>55</th>\n      <td>Uruguay</td>\n      <td>Match 56</td>\n      <td>Switzerland</td>\n      <td>?</td>\n    </tr>\n  </tbody>\n</table>\n</div>"
     },
     "execution_count": 155,
     "metadata": {},
     "output_type": "execute_result"
    }
   ],
   "source": [
    "for group in dict_table:\n",
    "    group_winner = dict_table[group].loc[0, 'Team']\n",
    "    runners_up = dict_table[group].loc[1, 'Team']\n",
    "    huitième_de_finale.replace({f'Winners {group}':group_winner,\n",
    "                                 f'Runners-up {group}':runners_up}, inplace=True)\n",
    "\n",
    "huitième_de_finale['winner'] = '?'\n",
    "huitième_de_finale"
   ]
  },
  {
   "cell_type": "code",
   "execution_count": 156,
   "outputs": [],
   "source": [
    "def predict_victory(home, away):\n",
    "\n",
    "    # creer et initailiser les lignes et les column porte `average_rank', 'rank_difference', 'point_difference', 'is_stake', 'is_worldcup\n",
    "    ligne = pd.DataFrame(np.array([[np.nan, np.nan, np.nan, True, True]]), columns=A_train.columns)\n",
    "\n",
    "    home_rank = classement_coup_du_monde.loc[home, 'rank']\n",
    "    home_points = classement_coup_du_monde.loc[home, 'total_points']\n",
    "    away_rank = classement_coup_du_monde.loc[away, 'rank']\n",
    "    away_points = classement_coup_du_monde.loc[away, 'total_points']\n",
    "\n",
    "    ligne['average_rank'] = (home_rank + away_rank) / 2\n",
    "    ligne['rank_difference'] = home_rank - away_rank\n",
    "    ligne['point_difference'] = home_points - away_points\n",
    "\n",
    "    modele = random_forest.predict(ligne)\n",
    "\n",
    "    if modele == False:\n",
    "        victory = 'away'\n",
    "\n",
    "    elif modele== True:\n",
    "        victory = 'home'\n",
    "\n",
    "    return  victory"
   ],
   "metadata": {
    "collapsed": false
   }
  },
  {
   "cell_type": "code",
   "execution_count": 157,
   "id": "45f60a81",
   "metadata": {},
   "outputs": [],
   "source": [
    "def get_winner(match):\n",
    "    for index, row in match.iterrows():\n",
    "        home, away = row['home'], row['away']\n",
    "        winn = predict_victory(home, away)\n",
    "        if winn=='home':\n",
    "            winner = home\n",
    "        else:\n",
    "            winner = away\n",
    "        match.loc[index, 'winner'] = winner\n",
    "    return match"
   ]
  },
  {
   "cell_type": "code",
   "execution_count": 158,
   "id": "e0fb2c03",
   "metadata": {},
   "outputs": [
    {
     "data": {
      "text/plain": "           home     match         away       winner\n48  Netherlands  Match 49         Iran  Netherlands\n49    Argentina  Match 50      Denmark    Argentina\n50       France  Match 52       Mexico       Mexico\n51      England  Match 51      Senegal      England\n52        Spain  Match 53      Croatia        Spain\n53       Brazil  Match 54     Portugal     Portugal\n54      Belgium  Match 55      Germany      Belgium\n55      Uruguay  Match 56  Switzerland  Switzerland",
      "text/html": "<div>\n<style scoped>\n    .dataframe tbody tr th:only-of-type {\n        vertical-align: middle;\n    }\n\n    .dataframe tbody tr th {\n        vertical-align: top;\n    }\n\n    .dataframe thead th {\n        text-align: right;\n    }\n</style>\n<table border=\"1\" class=\"dataframe\">\n  <thead>\n    <tr style=\"text-align: right;\">\n      <th></th>\n      <th>home</th>\n      <th>match</th>\n      <th>away</th>\n      <th>winner</th>\n    </tr>\n  </thead>\n  <tbody>\n    <tr>\n      <th>48</th>\n      <td>Netherlands</td>\n      <td>Match 49</td>\n      <td>Iran</td>\n      <td>Netherlands</td>\n    </tr>\n    <tr>\n      <th>49</th>\n      <td>Argentina</td>\n      <td>Match 50</td>\n      <td>Denmark</td>\n      <td>Argentina</td>\n    </tr>\n    <tr>\n      <th>50</th>\n      <td>France</td>\n      <td>Match 52</td>\n      <td>Mexico</td>\n      <td>Mexico</td>\n    </tr>\n    <tr>\n      <th>51</th>\n      <td>England</td>\n      <td>Match 51</td>\n      <td>Senegal</td>\n      <td>England</td>\n    </tr>\n    <tr>\n      <th>52</th>\n      <td>Spain</td>\n      <td>Match 53</td>\n      <td>Croatia</td>\n      <td>Spain</td>\n    </tr>\n    <tr>\n      <th>53</th>\n      <td>Brazil</td>\n      <td>Match 54</td>\n      <td>Portugal</td>\n      <td>Portugal</td>\n    </tr>\n    <tr>\n      <th>54</th>\n      <td>Belgium</td>\n      <td>Match 55</td>\n      <td>Germany</td>\n      <td>Belgium</td>\n    </tr>\n    <tr>\n      <th>55</th>\n      <td>Uruguay</td>\n      <td>Match 56</td>\n      <td>Switzerland</td>\n      <td>Switzerland</td>\n    </tr>\n  </tbody>\n</table>\n</div>"
     },
     "execution_count": 158,
     "metadata": {},
     "output_type": "execute_result"
    }
   ],
   "source": [
    "get_winner(huitième_de_finale)"
   ]
  },
  {
   "cell_type": "code",
   "execution_count": 159,
   "id": "1066b86d",
   "metadata": {},
   "outputs": [],
   "source": [
    "def update_table(round_1,round_2):\n",
    "    for index, row in round_1.iterrows():\n",
    "        winner = round_1.loc[index, 'winner']\n",
    "        match = round_1.loc[index, 'match']\n",
    "        round_2.replace({f'Winners {match}':winner}, inplace=True)\n",
    "    round_2['winner'] = '?'\n",
    "    return round_2"
   ]
  },
  {
   "cell_type": "code",
   "execution_count": 160,
   "id": "44cd96af",
   "metadata": {},
   "outputs": [
    {
     "data": {
      "text/plain": "           home     match         away winner\n56        Spain  Match 58     Portugal      ?\n57  Netherlands  Match 57    Argentina      ?\n58      Belgium  Match 60  Switzerland      ?\n59      England  Match 59       Mexico      ?",
      "text/html": "<div>\n<style scoped>\n    .dataframe tbody tr th:only-of-type {\n        vertical-align: middle;\n    }\n\n    .dataframe tbody tr th {\n        vertical-align: top;\n    }\n\n    .dataframe thead th {\n        text-align: right;\n    }\n</style>\n<table border=\"1\" class=\"dataframe\">\n  <thead>\n    <tr style=\"text-align: right;\">\n      <th></th>\n      <th>home</th>\n      <th>match</th>\n      <th>away</th>\n      <th>winner</th>\n    </tr>\n  </thead>\n  <tbody>\n    <tr>\n      <th>56</th>\n      <td>Spain</td>\n      <td>Match 58</td>\n      <td>Portugal</td>\n      <td>?</td>\n    </tr>\n    <tr>\n      <th>57</th>\n      <td>Netherlands</td>\n      <td>Match 57</td>\n      <td>Argentina</td>\n      <td>?</td>\n    </tr>\n    <tr>\n      <th>58</th>\n      <td>Belgium</td>\n      <td>Match 60</td>\n      <td>Switzerland</td>\n      <td>?</td>\n    </tr>\n    <tr>\n      <th>59</th>\n      <td>England</td>\n      <td>Match 59</td>\n      <td>Mexico</td>\n      <td>?</td>\n    </tr>\n  </tbody>\n</table>\n</div>"
     },
     "execution_count": 160,
     "metadata": {},
     "output_type": "execute_result"
    }
   ],
   "source": [
    "update_table(huitième_de_finale, quarts_de_finale)"
   ]
  },
  {
   "cell_type": "code",
   "execution_count": 161,
   "id": "fba91afa",
   "metadata": {},
   "outputs": [
    {
     "data": {
      "text/plain": "           home     match         away     winner\n56        Spain  Match 58     Portugal   Portugal\n57  Netherlands  Match 57    Argentina  Argentina\n58      Belgium  Match 60  Switzerland    Belgium\n59      England  Match 59       Mexico    England",
      "text/html": "<div>\n<style scoped>\n    .dataframe tbody tr th:only-of-type {\n        vertical-align: middle;\n    }\n\n    .dataframe tbody tr th {\n        vertical-align: top;\n    }\n\n    .dataframe thead th {\n        text-align: right;\n    }\n</style>\n<table border=\"1\" class=\"dataframe\">\n  <thead>\n    <tr style=\"text-align: right;\">\n      <th></th>\n      <th>home</th>\n      <th>match</th>\n      <th>away</th>\n      <th>winner</th>\n    </tr>\n  </thead>\n  <tbody>\n    <tr>\n      <th>56</th>\n      <td>Spain</td>\n      <td>Match 58</td>\n      <td>Portugal</td>\n      <td>Portugal</td>\n    </tr>\n    <tr>\n      <th>57</th>\n      <td>Netherlands</td>\n      <td>Match 57</td>\n      <td>Argentina</td>\n      <td>Argentina</td>\n    </tr>\n    <tr>\n      <th>58</th>\n      <td>Belgium</td>\n      <td>Match 60</td>\n      <td>Switzerland</td>\n      <td>Belgium</td>\n    </tr>\n    <tr>\n      <th>59</th>\n      <td>England</td>\n      <td>Match 59</td>\n      <td>Mexico</td>\n      <td>England</td>\n    </tr>\n  </tbody>\n</table>\n</div>"
     },
     "execution_count": 161,
     "metadata": {},
     "output_type": "execute_result"
    }
   ],
   "source": [
    "get_winner(quarts_de_finale)"
   ]
  },
  {
   "cell_type": "code",
   "execution_count": 162,
   "id": "fc6016c6",
   "metadata": {},
   "outputs": [
    {
     "data": {
      "text/plain": "         home     match      away winner\n60  Argentina  Match 61  Portugal      ?\n61    England  Match 62   Belgium      ?",
      "text/html": "<div>\n<style scoped>\n    .dataframe tbody tr th:only-of-type {\n        vertical-align: middle;\n    }\n\n    .dataframe tbody tr th {\n        vertical-align: top;\n    }\n\n    .dataframe thead th {\n        text-align: right;\n    }\n</style>\n<table border=\"1\" class=\"dataframe\">\n  <thead>\n    <tr style=\"text-align: right;\">\n      <th></th>\n      <th>home</th>\n      <th>match</th>\n      <th>away</th>\n      <th>winner</th>\n    </tr>\n  </thead>\n  <tbody>\n    <tr>\n      <th>60</th>\n      <td>Argentina</td>\n      <td>Match 61</td>\n      <td>Portugal</td>\n      <td>?</td>\n    </tr>\n    <tr>\n      <th>61</th>\n      <td>England</td>\n      <td>Match 62</td>\n      <td>Belgium</td>\n      <td>?</td>\n    </tr>\n  </tbody>\n</table>\n</div>"
     },
     "execution_count": 162,
     "metadata": {},
     "output_type": "execute_result"
    }
   ],
   "source": [
    "update_table(quarts_de_finale, demi_finale)"
   ]
  },
  {
   "cell_type": "code",
   "execution_count": 163,
   "id": "3e32f6a7",
   "metadata": {},
   "outputs": [
    {
     "data": {
      "text/plain": "         home     match      away    winner\n60  Argentina  Match 61  Portugal  Portugal\n61    England  Match 62   Belgium   Belgium",
      "text/html": "<div>\n<style scoped>\n    .dataframe tbody tr th:only-of-type {\n        vertical-align: middle;\n    }\n\n    .dataframe tbody tr th {\n        vertical-align: top;\n    }\n\n    .dataframe thead th {\n        text-align: right;\n    }\n</style>\n<table border=\"1\" class=\"dataframe\">\n  <thead>\n    <tr style=\"text-align: right;\">\n      <th></th>\n      <th>home</th>\n      <th>match</th>\n      <th>away</th>\n      <th>winner</th>\n    </tr>\n  </thead>\n  <tbody>\n    <tr>\n      <th>60</th>\n      <td>Argentina</td>\n      <td>Match 61</td>\n      <td>Portugal</td>\n      <td>Portugal</td>\n    </tr>\n    <tr>\n      <th>61</th>\n      <td>England</td>\n      <td>Match 62</td>\n      <td>Belgium</td>\n      <td>Belgium</td>\n    </tr>\n  </tbody>\n</table>\n</div>"
     },
     "execution_count": 163,
     "metadata": {},
     "output_type": "execute_result"
    }
   ],
   "source": [
    "get_winner(demi_finale)"
   ]
  },
  {
   "cell_type": "code",
   "execution_count": 164,
   "id": "f4c59090",
   "metadata": {},
   "outputs": [
    {
     "data": {
      "text/plain": "        home     match     away winner\n62  Portugal  Match 64  Belgium      ?",
      "text/html": "<div>\n<style scoped>\n    .dataframe tbody tr th:only-of-type {\n        vertical-align: middle;\n    }\n\n    .dataframe tbody tr th {\n        vertical-align: top;\n    }\n\n    .dataframe thead th {\n        text-align: right;\n    }\n</style>\n<table border=\"1\" class=\"dataframe\">\n  <thead>\n    <tr style=\"text-align: right;\">\n      <th></th>\n      <th>home</th>\n      <th>match</th>\n      <th>away</th>\n      <th>winner</th>\n    </tr>\n  </thead>\n  <tbody>\n    <tr>\n      <th>62</th>\n      <td>Portugal</td>\n      <td>Match 64</td>\n      <td>Belgium</td>\n      <td>?</td>\n    </tr>\n  </tbody>\n</table>\n</div>"
     },
     "execution_count": 164,
     "metadata": {},
     "output_type": "execute_result"
    }
   ],
   "source": [
    "update_table(demi_finale,final)"
   ]
  },
  {
   "cell_type": "code",
   "execution_count": 165,
   "id": "fd68827e",
   "metadata": {},
   "outputs": [
    {
     "data": {
      "text/plain": "        home     match     away   winner\n62  Portugal  Match 64  Belgium  Belgium",
      "text/html": "<div>\n<style scoped>\n    .dataframe tbody tr th:only-of-type {\n        vertical-align: middle;\n    }\n\n    .dataframe tbody tr th {\n        vertical-align: top;\n    }\n\n    .dataframe thead th {\n        text-align: right;\n    }\n</style>\n<table border=\"1\" class=\"dataframe\">\n  <thead>\n    <tr style=\"text-align: right;\">\n      <th></th>\n      <th>home</th>\n      <th>match</th>\n      <th>away</th>\n      <th>winner</th>\n    </tr>\n  </thead>\n  <tbody>\n    <tr>\n      <th>62</th>\n      <td>Portugal</td>\n      <td>Match 64</td>\n      <td>Belgium</td>\n      <td>Belgium</td>\n    </tr>\n  </tbody>\n</table>\n</div>"
     },
     "execution_count": 165,
     "metadata": {},
     "output_type": "execute_result"
    }
   ],
   "source": [
    "get_winner(final)"
   ]
  },
  {
   "cell_type": "code",
   "execution_count": 166,
   "outputs": [],
   "source": [
    "# Merci pour votre attention"
   ],
   "metadata": {
    "collapsed": false
   }
  }
 ],
 "metadata": {
  "kernelspec": {
   "display_name": "Python 3",
   "language": "python",
   "name": "python3"
  },
  "language_info": {
   "codemirror_mode": {
    "name": "ipython",
    "version": 3
   },
   "file_extension": ".py",
   "mimetype": "text/x-python",
   "name": "python",
   "nbconvert_exporter": "python",
   "pygments_lexer": "ipython3",
   "version": "3.10.8"
  },
  "papermill": {
   "default_parameters": {},
   "duration": 39.291878,
   "end_time": "2022-11-29T14:37:52.460968",
   "environment_variables": {},
   "exception": null,
   "input_path": "__notebook__.ipynb",
   "output_path": "__notebook__.ipynb",
   "parameters": {},
   "start_time": "2022-11-29T14:37:13.169090",
   "version": "2.3.4"
  },
  "vscode": {
   "interpreter": {
    "hash": "6524580259023a40a766e0df88705302a22de6da0102ff3859f49d9e12004941"
   }
  }
 },
 "nbformat": 4,
 "nbformat_minor": 5
}
