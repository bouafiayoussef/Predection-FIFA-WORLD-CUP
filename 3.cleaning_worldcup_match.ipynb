{
 "cells": [
  {
   "cell_type": "code",
   "execution_count": 12,
   "id": "847202b0",
   "metadata": {},
   "outputs": [],
   "source": [
    "import pandas as pd"
   ]
  },
  {
   "cell_type": "code",
   "execution_count": 13,
   "id": "16291610",
   "metadata": {},
   "outputs": [],
   "source": [
    "match = pd.read_csv('donnees/Qatar2022_match.csv')"
   ]
  },
  {
   "cell_type": "code",
   "execution_count": 14,
   "outputs": [
    {
     "data": {
      "text/plain": "           home score         away  year\n0         Qatar     -      Ecuador  2022\n1       Senegal     -  Netherlands  2022\n2         Qatar     -      Senegal  2022\n3   Netherlands     -      Ecuador  2022\n4       Ecuador     -      Senegal  2022\n..          ...   ...          ...   ...\n59      England     -       France  2022\n60    Argentina     -      Croatia  2022\n61       France     -      Morocco  2022\n62      Croatia     -      Morocco  2022\n63    Argentina     -       France  2022\n\n[64 rows x 4 columns]",
      "text/html": "<div>\n<style scoped>\n    .dataframe tbody tr th:only-of-type {\n        vertical-align: middle;\n    }\n\n    .dataframe tbody tr th {\n        vertical-align: top;\n    }\n\n    .dataframe thead th {\n        text-align: right;\n    }\n</style>\n<table border=\"1\" class=\"dataframe\">\n  <thead>\n    <tr style=\"text-align: right;\">\n      <th></th>\n      <th>home</th>\n      <th>score</th>\n      <th>away</th>\n      <th>year</th>\n    </tr>\n  </thead>\n  <tbody>\n    <tr>\n      <th>0</th>\n      <td>Qatar</td>\n      <td>-</td>\n      <td>Ecuador</td>\n      <td>2022</td>\n    </tr>\n    <tr>\n      <th>1</th>\n      <td>Senegal</td>\n      <td>-</td>\n      <td>Netherlands</td>\n      <td>2022</td>\n    </tr>\n    <tr>\n      <th>2</th>\n      <td>Qatar</td>\n      <td>-</td>\n      <td>Senegal</td>\n      <td>2022</td>\n    </tr>\n    <tr>\n      <th>3</th>\n      <td>Netherlands</td>\n      <td>-</td>\n      <td>Ecuador</td>\n      <td>2022</td>\n    </tr>\n    <tr>\n      <th>4</th>\n      <td>Ecuador</td>\n      <td>-</td>\n      <td>Senegal</td>\n      <td>2022</td>\n    </tr>\n    <tr>\n      <th>...</th>\n      <td>...</td>\n      <td>...</td>\n      <td>...</td>\n      <td>...</td>\n    </tr>\n    <tr>\n      <th>59</th>\n      <td>England</td>\n      <td>-</td>\n      <td>France</td>\n      <td>2022</td>\n    </tr>\n    <tr>\n      <th>60</th>\n      <td>Argentina</td>\n      <td>-</td>\n      <td>Croatia</td>\n      <td>2022</td>\n    </tr>\n    <tr>\n      <th>61</th>\n      <td>France</td>\n      <td>-</td>\n      <td>Morocco</td>\n      <td>2022</td>\n    </tr>\n    <tr>\n      <th>62</th>\n      <td>Croatia</td>\n      <td>-</td>\n      <td>Morocco</td>\n      <td>2022</td>\n    </tr>\n    <tr>\n      <th>63</th>\n      <td>Argentina</td>\n      <td>-</td>\n      <td>France</td>\n      <td>2022</td>\n    </tr>\n  </tbody>\n</table>\n<p>64 rows × 4 columns</p>\n</div>"
     },
     "execution_count": 14,
     "metadata": {},
     "output_type": "execute_result"
    }
   ],
   "source": [
    "match['score'] = match['score'].str.replace('[^\\d–]', '', regex=True)\n",
    "match['score']='-'\n",
    "match['home'] = match['home'].str.strip() # clean blank spaces: Yugoslavia twice\n",
    "match['away'] = match['away'].str.strip()\n",
    "\n",
    "match"
   ],
   "metadata": {
    "collapsed": false
   }
  },
  {
   "cell_type": "code",
   "execution_count": 15,
   "id": "12a3d8aa",
   "metadata": {},
   "outputs": [],
   "source": [
    "match.to_csv('donnees/Qatar2022_match_Clean.csv',index=False)"
   ]
  },
  {
   "cell_type": "code",
   "execution_count": null,
   "outputs": [],
   "source": [],
   "metadata": {
    "collapsed": false
   }
  }
 ],
 "metadata": {
  "kernelspec": {
   "display_name": "Python 3 (ipykernel)",
   "language": "python",
   "name": "python3"
  },
  "language_info": {
   "codemirror_mode": {
    "name": "ipython",
    "version": 3
   },
   "file_extension": ".py",
   "mimetype": "text/x-python",
   "name": "python",
   "nbconvert_exporter": "python",
   "pygments_lexer": "ipython3",
   "version": "3.9.13"
  },
  "toc": {
   "base_numbering": 1,
   "nav_menu": {},
   "number_sections": true,
   "sideBar": true,
   "skip_h1_title": false,
   "title_cell": "Table of Contents",
   "title_sidebar": "Contents",
   "toc_cell": false,
   "toc_position": {},
   "toc_section_display": true,
   "toc_window_display": false
  }
 },
 "nbformat": 4,
 "nbformat_minor": 5
}
